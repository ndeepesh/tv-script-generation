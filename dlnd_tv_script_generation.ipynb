{
 "cells": [
  {
   "cell_type": "markdown",
   "metadata": {
    "deletable": true,
    "editable": true
   },
   "source": [
    "# TV Script Generation\n",
    "In this project, you'll generate your own [Simpsons](https://en.wikipedia.org/wiki/The_Simpsons) TV scripts using RNNs.  You'll be using part of the [Simpsons dataset](https://www.kaggle.com/wcukierski/the-simpsons-by-the-data) of scripts from 27 seasons.  The Neural Network you'll build will generate a new TV script for a scene at [Moe's Tavern](https://simpsonswiki.com/wiki/Moe's_Tavern).\n",
    "## Get the Data\n",
    "The data is already provided for you.  You'll be using a subset of the original dataset.  It consists of only the scenes in Moe's Tavern.  This doesn't include other versions of the tavern, like \"Moe's Cavern\", \"Flaming Moe's\", \"Uncle Moe's Family Feed-Bag\", etc.."
   ]
  },
  {
   "cell_type": "code",
   "execution_count": 31,
   "metadata": {
    "collapsed": false,
    "deletable": true,
    "editable": true
   },
   "outputs": [],
   "source": [
    "import helper\n",
    "\n",
    "data_dir = './data/simpsons/moes_tavern_lines.txt'\n",
    "text = helper.load_data(data_dir)\n",
    "# Ignore notice, since we don't use it for analysing the data\n",
    "text = text[81:]"
   ]
  },
  {
   "cell_type": "markdown",
   "metadata": {
    "deletable": true,
    "editable": true
   },
   "source": [
    "## Explore the Data\n",
    "Play around with `view_sentence_range` to view different parts of the data."
   ]
  },
  {
   "cell_type": "code",
   "execution_count": 32,
   "metadata": {
    "collapsed": false,
    "deletable": true,
    "editable": true
   },
   "outputs": [
    {
     "name": "stdout",
     "output_type": "stream",
     "text": [
      "Dataset Stats\n",
      "Roughly the number of unique words: 11492\n",
      "Number of scenes: 262\n",
      "Average number of sentences in each scene: 15.248091603053435\n",
      "Number of lines: 4257\n",
      "Average number of words in each line: 11.50434578341555\n",
      "\n",
      "The sentences 0 to 2:\n",
      "Moe_Szyslak: (INTO PHONE) Moe's Tavern. Where the elite meet to drink.\n",
      "Bart_Simpson: Eh, yeah, hello, is Mike there? Last name, Rotch.\n"
     ]
    }
   ],
   "source": [
    "view_sentence_range = (0, 2)\n",
    "\n",
    "import numpy as np\n",
    "\n",
    "print('Dataset Stats')\n",
    "print('Roughly the number of unique words: {}'.format(len({word: None for word in text.split()})))\n",
    "scenes = text.split('\\n\\n')\n",
    "print('Number of scenes: {}'.format(len(scenes)))\n",
    "sentence_count_scene = [scene.count('\\n') for scene in scenes]\n",
    "print('Average number of sentences in each scene: {}'.format(np.average(sentence_count_scene)))\n",
    "\n",
    "sentences = [sentence for scene in scenes for sentence in scene.split('\\n')]\n",
    "print('Number of lines: {}'.format(len(sentences)))\n",
    "word_count_sentence = [len(sentence.split()) for sentence in sentences]\n",
    "print('Average number of words in each line: {}'.format(np.average(word_count_sentence)))\n",
    "\n",
    "print()\n",
    "print('The sentences {} to {}:'.format(*view_sentence_range))\n",
    "print('\\n'.join(text.split('\\n')[view_sentence_range[0]:view_sentence_range[1]]))"
   ]
  },
  {
   "cell_type": "markdown",
   "metadata": {
    "deletable": true,
    "editable": true
   },
   "source": [
    "## Implement Preprocessing Functions\n",
    "The first thing to do to any dataset is preprocessing.  Implement the following preprocessing functions below:\n",
    "- Lookup Table\n",
    "- Tokenize Punctuation\n",
    "\n",
    "### Lookup Table\n",
    "To create a word embedding, you first need to transform the words to ids.  In this function, create two dictionaries:\n",
    "- Dictionary to go from the words to an id, we'll call `vocab_to_int`\n",
    "- Dictionary to go from the id to word, we'll call `int_to_vocab`\n",
    "\n",
    "Return these dictionaries in the following tuple `(vocab_to_int, int_to_vocab)`"
   ]
  },
  {
   "cell_type": "code",
   "execution_count": 33,
   "metadata": {
    "collapsed": false,
    "deletable": true,
    "editable": true
   },
   "outputs": [
    {
     "name": "stdout",
     "output_type": "stream",
     "text": [
      "Tests Passed\n"
     ]
    }
   ],
   "source": [
    "import numpy as np\n",
    "import problem_unittests as tests\n",
    "\n",
    "def create_lookup_tables(text):\n",
    "    \"\"\"\n",
    "    Create lookup tables for vocabulary\n",
    "    :param text: The text of tv scripts split into words\n",
    "    :return: A tuple of dicts (vocab_to_int, int_to_vocab)\n",
    "    \"\"\"\n",
    "    text = set(text)\n",
    "    vocab_to_int = {ch:i for i, ch in enumerate(text)}\n",
    "    int_to_vocab = {i:ch for i, ch in enumerate(text)}\n",
    "    return (vocab_to_int, int_to_vocab)\n",
    "\n",
    "tests.test_create_lookup_tables(create_lookup_tables)"
   ]
  },
  {
   "cell_type": "markdown",
   "metadata": {
    "deletable": true,
    "editable": true
   },
   "source": [
    "### Tokenize Punctuation\n",
    "We'll be splitting the script into a word array using spaces as delimiters.  However, punctuations like periods and exclamation marks make it hard for the neural network to distinguish between the word \"bye\" and \"bye!\".\n",
    "\n",
    "Implement the function `token_lookup` to return a dict that will be used to tokenize symbols like \"!\" into \"||Exclamation_Mark||\".  Create a dictionary for the following symbols where the symbol is the key and value is the token:\n",
    "- Period ( . )\n",
    "- Comma ( , )\n",
    "- Quotation Mark ( \" )\n",
    "- Semicolon ( ; )\n",
    "- Exclamation mark ( ! )\n",
    "- Question mark ( ? )\n",
    "- Left Parentheses ( ( )\n",
    "- Right Parentheses ( ) )\n",
    "- Dash ( -- )\n",
    "- Return ( \\n )\n",
    "\n",
    "This dictionary will be used to token the symbols and add the delimiter (space) around it.  This separates the symbols as it's own word, making it easier for the neural network to predict on the next word. Make sure you don't use a token that could be confused as a word. Instead of using the token \"dash\", try using something like \"||dash||\"."
   ]
  },
  {
   "cell_type": "code",
   "execution_count": 34,
   "metadata": {
    "collapsed": false,
    "deletable": true,
    "editable": true
   },
   "outputs": [
    {
     "name": "stdout",
     "output_type": "stream",
     "text": [
      "Tests Passed\n"
     ]
    }
   ],
   "source": [
    "def token_lookup():\n",
    "    \"\"\"\n",
    "    Generate a dict to turn punctuation into a token.\n",
    "    :return: Tokenize dictionary where the key is the punctuation and the value is the token\n",
    "    \"\"\"\n",
    "    tokens_dict = {}\n",
    "    tokens_dict['.'] = '||Period||'\n",
    "    tokens_dict[','] = '||Comma||'\n",
    "    tokens_dict['\"'] = '||Quotation_Mark||'\n",
    "    tokens_dict[';'] = '||Semicolon||'\n",
    "    tokens_dict['!'] = '||Exclamation_Mark||'\n",
    "    tokens_dict['?'] = '||Question_Mark||'\n",
    "    tokens_dict['('] = '||Left_Parenthesis||'\n",
    "    tokens_dict[')'] = '||Right_Parenthesis||'\n",
    "    tokens_dict['--'] ='||Dash||'\n",
    "    tokens_dict['\\n'] = '||Return||'\n",
    "    return tokens_dict\n",
    "\n",
    "tests.test_tokenize(token_lookup)"
   ]
  },
  {
   "cell_type": "markdown",
   "metadata": {
    "deletable": true,
    "editable": true
   },
   "source": [
    "## Preprocess all the data and save it\n",
    "Running the code cell below will preprocess all the data and save it to file."
   ]
  },
  {
   "cell_type": "code",
   "execution_count": 35,
   "metadata": {
    "collapsed": false,
    "deletable": true,
    "editable": true
   },
   "outputs": [],
   "source": [
    "# Preprocess Training, Validation, and Testing Data\n",
    "helper.preprocess_and_save_data(data_dir, token_lookup, create_lookup_tables)"
   ]
  },
  {
   "cell_type": "markdown",
   "metadata": {
    "deletable": true,
    "editable": true
   },
   "source": [
    "# Check Point\n",
    "This is your first checkpoint. If you ever decide to come back to this notebook or have to restart the notebook, you can start from here. The preprocessed data has been saved to disk."
   ]
  },
  {
   "cell_type": "code",
   "execution_count": 36,
   "metadata": {
    "collapsed": false,
    "deletable": true,
    "editable": true
   },
   "outputs": [],
   "source": [
    "import helper\n",
    "import numpy as np\n",
    "import problem_unittests as tests\n",
    "\n",
    "int_text, vocab_to_int, int_to_vocab, token_dict = helper.load_preprocess()"
   ]
  },
  {
   "cell_type": "markdown",
   "metadata": {
    "deletable": true,
    "editable": true
   },
   "source": [
    "## Build the Neural Network\n",
    "You'll build the components necessary to build a RNN by implementing the following functions below:\n",
    "- get_inputs\n",
    "- get_init_cell\n",
    "- get_embed\n",
    "- build_rnn\n",
    "- build_nn\n",
    "- get_batches\n",
    "\n",
    "### Check the Version of TensorFlow and Access to GPU"
   ]
  },
  {
   "cell_type": "code",
   "execution_count": 37,
   "metadata": {
    "collapsed": false,
    "deletable": true,
    "editable": true
   },
   "outputs": [
    {
     "name": "stdout",
     "output_type": "stream",
     "text": [
      "TensorFlow Version: 1.0.0\n",
      "Default GPU Device: /gpu:0\n"
     ]
    }
   ],
   "source": [
    "from distutils.version import LooseVersion\n",
    "import warnings\n",
    "import tensorflow as tf\n",
    "\n",
    "# Check TensorFlow Version\n",
    "assert LooseVersion(tf.__version__) >= LooseVersion('1.0'), 'Please use TensorFlow version 1.0 or newer'\n",
    "print('TensorFlow Version: {}'.format(tf.__version__))\n",
    "\n",
    "# Check for a GPU\n",
    "if not tf.test.gpu_device_name():\n",
    "    warnings.warn('No GPU found. Please use a GPU to train your neural network.')\n",
    "else:\n",
    "    print('Default GPU Device: {}'.format(tf.test.gpu_device_name()))"
   ]
  },
  {
   "cell_type": "markdown",
   "metadata": {
    "deletable": true,
    "editable": true
   },
   "source": [
    "### Input\n",
    "Implement the `get_inputs()` function to create TF Placeholders for the Neural Network.  It should create the following placeholders:\n",
    "- Input text placeholder named \"input\" using the [TF Placeholder](https://www.tensorflow.org/api_docs/python/tf/placeholder) `name` parameter.\n",
    "- Targets placeholder\n",
    "- Learning Rate placeholder\n",
    "\n",
    "Return the placeholders in the following tuple `(Input, Targets, LearningRate)`"
   ]
  },
  {
   "cell_type": "code",
   "execution_count": 39,
   "metadata": {
    "collapsed": false,
    "deletable": true,
    "editable": true
   },
   "outputs": [
    {
     "name": "stdout",
     "output_type": "stream",
     "text": [
      "Tests Passed\n"
     ]
    }
   ],
   "source": [
    "def get_inputs():\n",
    "    \"\"\"\n",
    "    Create TF Placeholders for input, targets, and learning rate.\n",
    "    :return: Tuple (input, targets, learning rate)\n",
    "    \"\"\"\n",
    "    #with tf.name_scope('inputs'):\n",
    "    imp = tf.placeholder(dtype=tf.int32, shape=(None, None), name='input')\n",
    "    tar = tf.placeholder(dtype=tf.int32, shape=(None, None), name='target')\n",
    "    lr = tf.placeholder(dtype=tf.float32, name='learning_rate')\n",
    "    return (imp, tar, lr)\n",
    "\n",
    "tests.test_get_inputs(get_inputs)"
   ]
  },
  {
   "cell_type": "markdown",
   "metadata": {
    "deletable": true,
    "editable": true
   },
   "source": [
    "### Build RNN Cell and Initialize\n",
    "Stack one or more [`BasicLSTMCells`](https://www.tensorflow.org/api_docs/python/tf/contrib/rnn/BasicLSTMCell) in a [`MultiRNNCell`](https://www.tensorflow.org/api_docs/python/tf/contrib/rnn/MultiRNNCell).\n",
    "- The Rnn size should be set using `rnn_size`\n",
    "- Initalize Cell State using the MultiRNNCell's [`zero_state()`](https://www.tensorflow.org/api_docs/python/tf/contrib/rnn/MultiRNNCell#zero_state) function\n",
    "    - Apply the name \"initial_state\" to the initial state using [`tf.identity()`](https://www.tensorflow.org/api_docs/python/tf/identity)\n",
    "\n",
    "Return the cell and initial state in the following tuple `(Cell, InitialState)`"
   ]
  },
  {
   "cell_type": "code",
   "execution_count": 40,
   "metadata": {
    "collapsed": false,
    "deletable": true,
    "editable": true
   },
   "outputs": [
    {
     "name": "stdout",
     "output_type": "stream",
     "text": [
      "Tests Passed\n"
     ]
    }
   ],
   "source": [
    "def get_init_cell(batch_size, rnn_size):\n",
    "    \"\"\"\n",
    "    Create an RNN Cell and initialize it.\n",
    "    :param batch_size: Size of batches\n",
    "    :param rnn_size: Size of RNNs\n",
    "    :return: Tuple (cell, initialize state)\n",
    "    \"\"\"\n",
    "    # BasicLSTM Cell is not actually one LSTM Cell but a whole layer of cells with num_units\n",
    "    # as the dimension. Terminology is a bit inconsistent from what is used in literature.\n",
    "    num_lstm_cells = 1\n",
    "    #with tf.name_scope('RNN_Layers'):\n",
    "    basicLSTMCell_1 = tf.contrib.rnn.BasicLSTMCell(rnn_size)\n",
    "    stackedLSTMCells = tf.contrib.rnn.MultiRNNCell([basicLSTMCell_1]*num_lstm_cells)\n",
    "    #with tf.name_scope('RNN_init_state'):\n",
    "    init_state = stackedLSTMCells.zero_state(batch_size, dtype=tf.float32)\n",
    "    init_state = tf.identity(init_state, name='initial_state')\n",
    "    \n",
    "    return (stackedLSTMCells, init_state)\n",
    "\n",
    "tests.test_get_init_cell(get_init_cell)"
   ]
  },
  {
   "cell_type": "markdown",
   "metadata": {
    "deletable": true,
    "editable": true
   },
   "source": [
    "### Word Embedding\n",
    "Apply embedding to `input_data` using TensorFlow.  Return the embedded sequence."
   ]
  },
  {
   "cell_type": "code",
   "execution_count": 41,
   "metadata": {
    "collapsed": false,
    "deletable": true,
    "editable": true
   },
   "outputs": [
    {
     "name": "stdout",
     "output_type": "stream",
     "text": [
      "Tests Passed\n"
     ]
    }
   ],
   "source": [
    "def get_embed(input_data, vocab_size, embed_dim):\n",
    "    \"\"\"\n",
    "    Create embedding for <input_data>.\n",
    "    :param input_data: TF placeholder for text input.\n",
    "    :param vocab_size: Number of words in vocabulary.\n",
    "    :param embed_dim: Number of embedding dimensions\n",
    "    :return: Embedded input.\n",
    "    \"\"\"\n",
    "    # TODO: Try with normal distribution instead of uniform distribution\n",
    "    #with tf.name_scope('Inputs_Embedding'):\n",
    "    embedding_layer = tf.Variable(tf.random_uniform((vocab_size, embed_dim), -1, 1))\n",
    "    embedded_inp = tf.nn.embedding_lookup(embedding_layer, input_data)\n",
    "    return embedded_inp\n",
    "\n",
    "tests.test_get_embed(get_embed)"
   ]
  },
  {
   "cell_type": "markdown",
   "metadata": {
    "deletable": true,
    "editable": true
   },
   "source": [
    "### Build RNN\n",
    "You created a RNN Cell in the `get_init_cell()` function.  Time to use the cell to create a RNN.\n",
    "- Build the RNN using the [`tf.nn.dynamic_rnn()`](https://www.tensorflow.org/api_docs/python/tf/nn/dynamic_rnn)\n",
    " - Apply the name \"final_state\" to the final state using [`tf.identity()`](https://www.tensorflow.org/api_docs/python/tf/identity)\n",
    "\n",
    "Return the outputs and final_state state in the following tuple `(Outputs, FinalState)` "
   ]
  },
  {
   "cell_type": "code",
   "execution_count": 42,
   "metadata": {
    "collapsed": false,
    "deletable": true,
    "editable": true
   },
   "outputs": [
    {
     "name": "stdout",
     "output_type": "stream",
     "text": [
      "Tests Passed\n"
     ]
    }
   ],
   "source": [
    "def build_rnn(cell, inputs):\n",
    "    \"\"\"\n",
    "    Create a RNN using a RNN Cell\n",
    "    :param cell: RNN Cell\n",
    "    :param inputs: Input text data\n",
    "    :return: Tuple (Outputs, Final State)\n",
    "    \"\"\"\n",
    "    # Dynamic RNN builds a dynamic graph compared to tf..nn.rnn. So more flexible\n",
    "    #with tf.name_scope('RNN_Forward'):\n",
    "    outputs, final_state = tf.nn.dynamic_rnn(cell, inputs, dtype=tf.float32)\n",
    "    final_state = tf.identity(final_state, name='final_state')\n",
    "    return (outputs, final_state)\n",
    "\n",
    "tests.test_build_rnn(build_rnn)"
   ]
  },
  {
   "cell_type": "markdown",
   "metadata": {
    "deletable": true,
    "editable": true
   },
   "source": [
    "### Build the Neural Network\n",
    "Apply the functions you implemented above to:\n",
    "- Apply embedding to `input_data` using your `get_embed(input_data, vocab_size, embed_dim)` function.\n",
    "- Build RNN using `cell` and your `build_rnn(cell, inputs)` function.\n",
    "- Apply a fully connected layer with a linear activation and `vocab_size` as the number of outputs.\n",
    "\n",
    "Return the logits and final state in the following tuple (Logits, FinalState) "
   ]
  },
  {
   "cell_type": "code",
   "execution_count": 43,
   "metadata": {
    "collapsed": false,
    "deletable": true,
    "editable": true
   },
   "outputs": [
    {
     "name": "stdout",
     "output_type": "stream",
     "text": [
      "Tests Passed\n"
     ]
    }
   ],
   "source": [
    "def build_nn(cell, rnn_size, input_data, vocab_size, embed_dim):\n",
    "    \"\"\"\n",
    "    Build part of the neural network\n",
    "    :param cell: RNN cell\n",
    "    :param rnn_size: Size of rnns\n",
    "    :param input_data: Input data\n",
    "    :param vocab_size: Vocabulary size\n",
    "    :param embed_dim: Number of embedding dimensions\n",
    "    :return: Tuple (Logits, FinalState)\n",
    "    \"\"\"\n",
    "    embedded_inputs = get_embed(input_data, vocab_size, embed_dim)\n",
    "    outputs, final_state = build_rnn(cell, embedded_inputs)\n",
    "    #with tf.name_scope('RNN_Logits'):\n",
    "    predictions = tf.contrib.layers.fully_connected(outputs,vocab_size,activation_fn=None,weights_initializer=tf.truncated_normal_initializer(stddev=0.1))\n",
    "    \n",
    "    return (predictions, final_state)\n",
    "\n",
    "tests.test_build_nn(build_nn)"
   ]
  },
  {
   "cell_type": "markdown",
   "metadata": {
    "deletable": true,
    "editable": true
   },
   "source": [
    "### Batches\n",
    "Implement `get_batches` to create batches of input and targets using `int_text`.  The batches should be a Numpy array with the shape `(number of batches, 2, batch size, sequence length)`. Each batch contains two elements:\n",
    "- The first element is a single batch of **input** with the shape `[batch size, sequence length]`\n",
    "- The second element is a single batch of **targets** with the shape `[batch size, sequence length]`\n",
    "\n",
    "If you can't fill the last batch with enough data, drop the last batch.\n",
    "\n",
    "For exmple, `get_batches([1, 2, 3, 4, 5, 6, 7, 8, 9, 10, 11, 12, 13, 14, 15, 16, 17, 18, 19, 20], 3, 2)` would return a Numpy array of the following:\n",
    "```\n",
    "[\n",
    "  # First Batch\n",
    "  [\n",
    "    # Batch of Input\n",
    "    [[ 1  2], [ 7  8], [13 14]]\n",
    "    # Batch of targets\n",
    "    [[ 2  3], [ 8  9], [14 15]]\n",
    "  ]\n",
    "\n",
    "  # Second Batch\n",
    "  [\n",
    "    # Batch of Input\n",
    "    [[ 3  4], [ 9 10], [15 16]]\n",
    "    # Batch of targets\n",
    "    [[ 4  5], [10 11], [16 17]]\n",
    "  ]\n",
    "\n",
    "  # Third Batch\n",
    "  [\n",
    "    # Batch of Input\n",
    "    [[ 5  6], [11 12], [17 18]]\n",
    "    # Batch of targets\n",
    "    [[ 6  7], [12 13], [18  1]]\n",
    "  ]\n",
    "]\n",
    "```\n",
    "\n",
    "Notice that the last target value in the last batch is the first input value of the first batch. In this case, `1`. This is a common technique used when creating sequence batches, although it is rather unintuitive."
   ]
  },
  {
   "cell_type": "code",
   "execution_count": 44,
   "metadata": {
    "collapsed": false,
    "deletable": true,
    "editable": true
   },
   "outputs": [
    {
     "name": "stdout",
     "output_type": "stream",
     "text": [
      "Tests Passed\n"
     ]
    }
   ],
   "source": [
    "def get_batches(int_text, batch_size, seq_length):\n",
    "    \"\"\"\n",
    "    Return batches of input and target\n",
    "    :param int_text: Text with the words replaced by their ids\n",
    "    :param batch_size: The size of batch\n",
    "    :param seq_length: The length of sequence\n",
    "    :return: Batches as a Numpy array\n",
    "    \"\"\"\n",
    "    num_batches = len(int_text)//(batch_size*seq_length)\n",
    "    batches = np.zeros((num_batches, 2, batch_size, seq_length))\n",
    "    \n",
    "    for batch in range(num_batches):\n",
    "        input_batch = np.zeros((batch_size, seq_length))\n",
    "        target_batch = np.zeros((batch_size, seq_length))\n",
    "    \n",
    "    current_batch_num = 0\n",
    "    batch_index = 0\n",
    "    for i in range(0, num_batches*batch_size*seq_length, seq_length):\n",
    "        batches[current_batch_num][0][batch_index] = int_text[i:i+seq_length]\n",
    "        batches[current_batch_num][1][batch_index] = int_text[i+1:i+1+seq_length]\n",
    "        \n",
    "        if(current_batch_num == num_batches-1): \n",
    "            current_batch_num=0\n",
    "            batch_index += 1\n",
    "        else: current_batch_num += 1\n",
    "    \n",
    "    # TODO: Know the reasoning behind this\n",
    "    batches[num_batches-1][1][batch_size-1][seq_length-1] = 0\n",
    "    return batches\n",
    "\n",
    "tests.test_get_batches(get_batches)"
   ]
  },
  {
   "cell_type": "markdown",
   "metadata": {
    "deletable": true,
    "editable": true
   },
   "source": [
    "## Neural Network Training\n",
    "### Hyperparameters\n",
    "Tune the following parameters:\n",
    "\n",
    "- Set `num_epochs` to the number of epochs.\n",
    "- Set `batch_size` to the batch size.\n",
    "- Set `rnn_size` to the size of the RNNs.\n",
    "- Set `embed_dim` to the size of the embedding.\n",
    "- Set `seq_length` to the length of sequence.\n",
    "- Set `learning_rate` to the learning rate.\n",
    "- Set `show_every_n_batches` to the number of batches the neural network should print progress."
   ]
  },
  {
   "cell_type": "code",
   "execution_count": 45,
   "metadata": {
    "collapsed": true,
    "deletable": true,
    "editable": true
   },
   "outputs": [],
   "source": [
    "# Number of Epochs\n",
    "num_epochs = 100\n",
    "# Batch Size\n",
    "batch_size = 256\n",
    "# RNN Size\n",
    "rnn_size = 256\n",
    "# Embedding Dimension Size\n",
    "embed_dim = 256\n",
    "# Sequence Length\n",
    "seq_length = 10\n",
    "# Learning Rate\n",
    "learning_rate = 0.01\n",
    "# Show stats for every n number of batches\n",
    "show_every_n_batches = 20\n",
    "\n",
    "save_dir = './save'"
   ]
  },
  {
   "cell_type": "markdown",
   "metadata": {
    "deletable": true,
    "editable": true
   },
   "source": [
    "### Build the Graph\n",
    "Build the graph using the neural network you implemented."
   ]
  },
  {
   "cell_type": "code",
   "execution_count": 46,
   "metadata": {
    "collapsed": false,
    "deletable": true,
    "editable": true
   },
   "outputs": [],
   "source": [
    "from tensorflow.contrib import seq2seq\n",
    "\n",
    "train_graph = tf.Graph()\n",
    "with train_graph.as_default():\n",
    "    vocab_size = len(int_to_vocab)\n",
    "    input_text, targets, lr = get_inputs()\n",
    "    input_data_shape = tf.shape(input_text)\n",
    "    cell, initial_state = get_init_cell(input_data_shape[0], rnn_size)\n",
    "    logits, final_state = build_nn(cell, rnn_size, input_text, vocab_size, embed_dim)\n",
    "\n",
    "    # Probabilities for generating words\n",
    "    #with tf.name_scope('RNN_Predictions'):\n",
    "    probs = tf.nn.softmax(logits, name='probs')\n",
    "    tf.summary.histogram('predictions', probs)\n",
    "\n",
    "    # Loss function\n",
    "    #with tf.name_scope('RNN_Cost'):\n",
    "    cost = seq2seq.sequence_loss(\n",
    "        logits,\n",
    "        targets,\n",
    "        tf.ones([input_data_shape[0], input_data_shape[1]]))\n",
    "    # tf.summary.scalar('cost', cost)\n",
    "\n",
    "    summary_op = tf.summary.merge_all()\n",
    "    \n",
    "    # Optimizer\n",
    "    #with tf.name_scope('RNN_Train'):\n",
    "    optimizer = tf.train.AdamOptimizer(lr)\n",
    "\n",
    "    # Gradient Clipping\n",
    "    gradients = optimizer.compute_gradients(cost)\n",
    "    capped_gradients = [(tf.clip_by_value(grad, -1., 1.), var) for grad, var in gradients if grad is not None]\n",
    "    train_op = optimizer.apply_gradients(capped_gradients)"
   ]
  },
  {
   "cell_type": "markdown",
   "metadata": {
    "deletable": true,
    "editable": true
   },
   "source": [
    "## Train\n",
    "Train the neural network on the preprocessed data.  If you have a hard time getting a good loss, check the [forms](https://discussions.udacity.com/) to see if anyone is having the same problem."
   ]
  },
  {
   "cell_type": "code",
   "execution_count": 19,
   "metadata": {
    "collapsed": false,
    "deletable": true,
    "editable": true
   },
   "outputs": [
    {
     "name": "stdout",
     "output_type": "stream",
     "text": [
      "Epoch   0 Batch    0/26   train_loss = 8.841\n",
      "Epoch   0 Batch   20/26   train_loss = 5.433\n",
      "Epoch   1 Batch   14/26   train_loss = 4.783\n",
      "Epoch   2 Batch    8/26   train_loss = 4.235\n",
      "Epoch   3 Batch    2/26   train_loss = 3.917\n",
      "Epoch   3 Batch   22/26   train_loss = 3.553\n",
      "Epoch   4 Batch   16/26   train_loss = 3.280\n",
      "Epoch   5 Batch   10/26   train_loss = 2.974\n",
      "Epoch   6 Batch    4/26   train_loss = 2.764\n",
      "Epoch   6 Batch   24/26   train_loss = 2.541\n",
      "Epoch   7 Batch   18/26   train_loss = 2.318\n",
      "Epoch   8 Batch   12/26   train_loss = 2.085\n",
      "Epoch   9 Batch    6/26   train_loss = 1.956\n",
      "Epoch  10 Batch    0/26   train_loss = 1.719\n",
      "Epoch  10 Batch   20/26   train_loss = 1.639\n",
      "Epoch  11 Batch   14/26   train_loss = 1.504\n",
      "Epoch  12 Batch    8/26   train_loss = 1.419\n",
      "Epoch  13 Batch    2/26   train_loss = 1.327\n",
      "Epoch  13 Batch   22/26   train_loss = 1.204\n",
      "Epoch  14 Batch   16/26   train_loss = 1.195\n",
      "Epoch  15 Batch   10/26   train_loss = 1.148\n",
      "Epoch  16 Batch    4/26   train_loss = 1.068\n",
      "Epoch  16 Batch   24/26   train_loss = 0.974\n",
      "Epoch  17 Batch   18/26   train_loss = 0.876\n",
      "Epoch  18 Batch   12/26   train_loss = 0.830\n",
      "Epoch  19 Batch    6/26   train_loss = 0.812\n",
      "Epoch  20 Batch    0/26   train_loss = 0.747\n",
      "Epoch  20 Batch   20/26   train_loss = 0.729\n",
      "Epoch  21 Batch   14/26   train_loss = 0.700\n",
      "Epoch  22 Batch    8/26   train_loss = 0.674\n",
      "Epoch  23 Batch    2/26   train_loss = 0.642\n",
      "Epoch  23 Batch   22/26   train_loss = 0.619\n",
      "Epoch  24 Batch   16/26   train_loss = 0.604\n",
      "Epoch  25 Batch   10/26   train_loss = 0.590\n",
      "Epoch  26 Batch    4/26   train_loss = 0.578\n",
      "Epoch  26 Batch   24/26   train_loss = 0.533\n",
      "Epoch  27 Batch   18/26   train_loss = 0.523\n",
      "Epoch  28 Batch   12/26   train_loss = 0.498\n",
      "Epoch  29 Batch    6/26   train_loss = 0.500\n",
      "Epoch  30 Batch    0/26   train_loss = 0.436\n",
      "Epoch  30 Batch   20/26   train_loss = 0.457\n",
      "Epoch  31 Batch   14/26   train_loss = 0.462\n",
      "Epoch  32 Batch    8/26   train_loss = 0.418\n",
      "Epoch  33 Batch    2/26   train_loss = 0.441\n",
      "Epoch  33 Batch   22/26   train_loss = 0.409\n",
      "Epoch  34 Batch   16/26   train_loss = 0.421\n",
      "Epoch  35 Batch   10/26   train_loss = 0.403\n",
      "Epoch  36 Batch    4/26   train_loss = 0.410\n",
      "Epoch  36 Batch   24/26   train_loss = 0.394\n",
      "Epoch  37 Batch   18/26   train_loss = 0.404\n",
      "Epoch  38 Batch   12/26   train_loss = 0.388\n",
      "Epoch  39 Batch    6/26   train_loss = 0.416\n",
      "Epoch  40 Batch    0/26   train_loss = 0.361\n",
      "Epoch  40 Batch   20/26   train_loss = 0.396\n",
      "Epoch  41 Batch   14/26   train_loss = 0.402\n",
      "Epoch  42 Batch    8/26   train_loss = 0.373\n",
      "Epoch  43 Batch    2/26   train_loss = 0.397\n",
      "Epoch  43 Batch   22/26   train_loss = 0.373\n",
      "Epoch  44 Batch   16/26   train_loss = 0.389\n",
      "Epoch  45 Batch   10/26   train_loss = 0.367\n",
      "Epoch  46 Batch    4/26   train_loss = 0.378\n",
      "Epoch  46 Batch   24/26   train_loss = 0.371\n",
      "Epoch  47 Batch   18/26   train_loss = 0.382\n",
      "Epoch  48 Batch   12/26   train_loss = 0.369\n",
      "Epoch  49 Batch    6/26   train_loss = 0.395\n",
      "Epoch  50 Batch    0/26   train_loss = 0.344\n",
      "Epoch  50 Batch   20/26   train_loss = 0.383\n",
      "Epoch  51 Batch   14/26   train_loss = 0.387\n",
      "Epoch  52 Batch    8/26   train_loss = 0.363\n",
      "Epoch  53 Batch    2/26   train_loss = 0.386\n",
      "Epoch  53 Batch   22/26   train_loss = 0.365\n",
      "Epoch  54 Batch   16/26   train_loss = 0.383\n",
      "Epoch  55 Batch   10/26   train_loss = 0.360\n",
      "Epoch  56 Batch    4/26   train_loss = 0.372\n",
      "Epoch  56 Batch   24/26   train_loss = 0.366\n",
      "Epoch  57 Batch   18/26   train_loss = 0.377\n",
      "Epoch  58 Batch   12/26   train_loss = 0.365\n",
      "Epoch  59 Batch    6/26   train_loss = 0.390\n",
      "Epoch  60 Batch    0/26   train_loss = 0.341\n",
      "Epoch  60 Batch   20/26   train_loss = 0.379\n",
      "Epoch  61 Batch   14/26   train_loss = 0.384\n",
      "Epoch  62 Batch    8/26   train_loss = 0.360\n",
      "Epoch  63 Batch    2/26   train_loss = 0.383\n",
      "Epoch  63 Batch   22/26   train_loss = 0.361\n",
      "Epoch  64 Batch   16/26   train_loss = 0.380\n",
      "Epoch  65 Batch   10/26   train_loss = 0.357\n",
      "Epoch  66 Batch    4/26   train_loss = 0.370\n",
      "Epoch  66 Batch   24/26   train_loss = 0.364\n",
      "Epoch  67 Batch   18/26   train_loss = 0.375\n",
      "Epoch  68 Batch   12/26   train_loss = 0.362\n",
      "Epoch  69 Batch    6/26   train_loss = 0.388\n",
      "Epoch  70 Batch    0/26   train_loss = 0.339\n",
      "Epoch  70 Batch   20/26   train_loss = 0.377\n",
      "Epoch  71 Batch   14/26   train_loss = 0.381\n",
      "Epoch  72 Batch    8/26   train_loss = 0.357\n",
      "Epoch  73 Batch    2/26   train_loss = 0.381\n",
      "Epoch  73 Batch   22/26   train_loss = 0.360\n",
      "Epoch  74 Batch   16/26   train_loss = 0.378\n",
      "Epoch  75 Batch   10/26   train_loss = 0.354\n",
      "Epoch  76 Batch    4/26   train_loss = 0.368\n",
      "Epoch  76 Batch   24/26   train_loss = 0.362\n",
      "Epoch  77 Batch   18/26   train_loss = 0.373\n",
      "Epoch  78 Batch   12/26   train_loss = 0.360\n",
      "Epoch  79 Batch    6/26   train_loss = 0.386\n",
      "Epoch  80 Batch    0/26   train_loss = 0.337\n",
      "Epoch  80 Batch   20/26   train_loss = 0.375\n",
      "Epoch  81 Batch   14/26   train_loss = 0.380\n",
      "Epoch  82 Batch    8/26   train_loss = 0.356\n",
      "Epoch  83 Batch    2/26   train_loss = 0.379\n",
      "Epoch  83 Batch   22/26   train_loss = 0.358\n",
      "Epoch  84 Batch   16/26   train_loss = 0.377\n",
      "Epoch  85 Batch   10/26   train_loss = 0.353\n",
      "Epoch  86 Batch    4/26   train_loss = 0.367\n",
      "Epoch  86 Batch   24/26   train_loss = 0.360\n",
      "Epoch  87 Batch   18/26   train_loss = 0.372\n",
      "Epoch  88 Batch   12/26   train_loss = 0.359\n",
      "Epoch  89 Batch    6/26   train_loss = 0.385\n",
      "Epoch  90 Batch    0/26   train_loss = 0.336\n",
      "Epoch  90 Batch   20/26   train_loss = 0.374\n",
      "Epoch  91 Batch   14/26   train_loss = 0.378\n",
      "Epoch  92 Batch    8/26   train_loss = 0.354\n",
      "Epoch  93 Batch    2/26   train_loss = 0.378\n",
      "Epoch  93 Batch   22/26   train_loss = 0.357\n",
      "Epoch  94 Batch   16/26   train_loss = 0.376\n",
      "Epoch  95 Batch   10/26   train_loss = 0.352\n",
      "Epoch  96 Batch    4/26   train_loss = 0.366\n",
      "Epoch  96 Batch   24/26   train_loss = 0.359\n",
      "Epoch  97 Batch   18/26   train_loss = 0.371\n",
      "Epoch  98 Batch   12/26   train_loss = 0.358\n",
      "Epoch  99 Batch    6/26   train_loss = 0.384\n",
      "Model Trained and Saved\n"
     ]
    }
   ],
   "source": [
    "batches = get_batches(int_text, batch_size, seq_length)\n",
    "\n",
    "with tf.Session(graph=train_graph) as sess:\n",
    "    sess.run(tf.global_variables_initializer())\n",
    "    \n",
    "    # For Tensorboard\n",
    "    #train_writer = tf.summary.FileWriter('./logs/with_variables', sess.graph)\n",
    "    \n",
    "    for epoch_i in range(num_epochs):\n",
    "        state = sess.run(initial_state, {input_text: batches[0][0]})\n",
    "\n",
    "        for batch_i, (x, y) in enumerate(batches):\n",
    "            feed = {\n",
    "                input_text: x,\n",
    "                targets: y,\n",
    "                initial_state: state,\n",
    "                lr: learning_rate}\n",
    "            summary, train_loss, state, _ = sess.run([summary_op, cost, final_state, train_op], feed)\n",
    "\n",
    "            if (epoch_i * len(batches) + batch_i) % show_every_n_batches == 0:\n",
    "                #train_writer.add_summary(summary, epoch_i * len(batches) + batch_i)\n",
    "                print('Epoch {:>3} Batch {:>4}/{}   train_loss = {:.3f}'.format(\n",
    "                    epoch_i,\n",
    "                    batch_i,\n",
    "                    len(batches),\n",
    "                    train_loss))\n",
    "\n",
    "    # Save Model\n",
    "    saver = tf.train.Saver()\n",
    "    saver.save(sess, save_dir)\n",
    "    print('Model Trained and Saved')"
   ]
  },
  {
   "cell_type": "markdown",
   "metadata": {
    "deletable": true,
    "editable": true
   },
   "source": [
    "## Save Parameters\n",
    "Save `seq_length` and `save_dir` for generating a new TV script."
   ]
  },
  {
   "cell_type": "code",
   "execution_count": 47,
   "metadata": {
    "collapsed": false,
    "deletable": true,
    "editable": true
   },
   "outputs": [],
   "source": [
    "# Save parameters for checkpoint\n",
    "helper.save_params((seq_length, save_dir))"
   ]
  },
  {
   "cell_type": "markdown",
   "metadata": {
    "deletable": true,
    "editable": true
   },
   "source": [
    "# Checkpoint"
   ]
  },
  {
   "cell_type": "code",
   "execution_count": 48,
   "metadata": {
    "collapsed": false,
    "deletable": true,
    "editable": true
   },
   "outputs": [],
   "source": [
    "import tensorflow as tf\n",
    "import numpy as np\n",
    "import helper\n",
    "import problem_unittests as tests\n",
    "\n",
    "_, vocab_to_int, int_to_vocab, token_dict = helper.load_preprocess()\n",
    "seq_length, load_dir = helper.load_params()"
   ]
  },
  {
   "cell_type": "markdown",
   "metadata": {
    "deletable": true,
    "editable": true
   },
   "source": [
    "## Implement Generate Functions\n",
    "### Get Tensors\n",
    "Get tensors from `loaded_graph` using the function [`get_tensor_by_name()`](https://www.tensorflow.org/api_docs/python/tf/Graph#get_tensor_by_name).  Get the tensors using the following names:\n",
    "- \"input:0\"\n",
    "- \"initial_state:0\"\n",
    "- \"final_state:0\"\n",
    "- \"probs:0\"\n",
    "\n",
    "Return the tensors in the following tuple `(InputTensor, InitialStateTensor, FinalStateTensor, ProbsTensor)` "
   ]
  },
  {
   "cell_type": "code",
   "execution_count": 49,
   "metadata": {
    "collapsed": false,
    "deletable": true,
    "editable": true
   },
   "outputs": [
    {
     "name": "stdout",
     "output_type": "stream",
     "text": [
      "Tests Passed\n"
     ]
    }
   ],
   "source": [
    "def get_tensors(loaded_graph):\n",
    "    \"\"\"\n",
    "    Get input, initial state, final state, and probabilities tensor from <loaded_graph>\n",
    "    :param loaded_graph: TensorFlow graph loaded from file\n",
    "    :return: Tuple (InputTensor, InitialStateTensor, FinalStateTensor, ProbsTensor)\n",
    "    \"\"\"\n",
    "    return loaded_graph.get_tensor_by_name('input:0'), loaded_graph.get_tensor_by_name('initial_state:0'), loaded_graph.get_tensor_by_name('final_state:0'), loaded_graph.get_tensor_by_name('probs:0')\n",
    "    #return loaded_graph.get_tensor_by_name('inputs/input:0'), loaded_graph.get_tensor_by_name('RNN_init_state/initial_state:0'), loaded_graph.get_tensor_by_name('RNN_Forward/final_state:0'), loaded_graph.get_tensor_by_name('RNN_Predictions/probs:0')\n",
    "\n",
    "tests.test_get_tensors(get_tensors)"
   ]
  },
  {
   "cell_type": "markdown",
   "metadata": {
    "deletable": true,
    "editable": true
   },
   "source": [
    "### Choose Word\n",
    "Implement the `pick_word()` function to select the next word using `probabilities`."
   ]
  },
  {
   "cell_type": "code",
   "execution_count": 50,
   "metadata": {
    "collapsed": false,
    "deletable": true,
    "editable": true
   },
   "outputs": [
    {
     "name": "stdout",
     "output_type": "stream",
     "text": [
      "Tests Passed\n"
     ]
    }
   ],
   "source": [
    "def pick_word(probabilities, int_to_vocab):\n",
    "    \"\"\"\n",
    "    Pick the next word in the generated text\n",
    "    :param probabilities: Probabilites of the next word\n",
    "    :param int_to_vocab: Dictionary of word ids as the keys and words as the values\n",
    "    :return: String of the predicted word\n",
    "    \"\"\"\n",
    "    #probable_word_index = np.argmax(probabilities)\n",
    "    #return int_to_vocab[probable_word_index]\n",
    "    p = np.squeeze(probabilities)\n",
    "    p[np.argsort(p)[:-5]] = 0\n",
    "    p = p / np.sum(p)\n",
    "    c = np.random.choice(len(int_to_vocab), 1, p=p)[0]\n",
    "    return int_to_vocab[c]\n",
    "tests.test_pick_word(pick_word)"
   ]
  },
  {
   "cell_type": "markdown",
   "metadata": {
    "deletable": true,
    "editable": true
   },
   "source": [
    "## Generate TV Script\n",
    "This will generate the TV script for you.  Set `gen_length` to the length of TV script you want to generate."
   ]
  },
  {
   "cell_type": "code",
   "execution_count": 30,
   "metadata": {
    "collapsed": false,
    "deletable": true,
    "editable": true
   },
   "outputs": [
    {
     "name": "stdout",
     "output_type": "stream",
     "text": [
      "moe_szyslak: homer, you're doin' great. you're way ahead in the world won't turn this again.\n",
      "homer_simpson: but then we haven't met drink only no more than i could do was the greatest.\n",
      "moe_szyslak: i got don't you a drink?\n",
      "homer_simpson: moe, if this is a computer barney_gumble: i can do is.\n",
      "moe_szyslak: that you mean-- only one dog went my.\n",
      "barney_gumble: why did you say\" too?\" too?\n",
      "moe_szyslak: not so fast.\n",
      "moe_szyslak: an unforgettable weekend at club moe.\n",
      "moe_szyslak: he, that's right. but i want an old and me.\n",
      "moe_szyslak: yeah, i right.\n",
      "moe_szyslak: whoa.\n",
      "homer_simpson:(looking up) huh?\n",
      "bart_simpson: oh, i don't know. they're pretty selective.(ice cold) and are you and produce it.\n",
      "homer_simpson:(gasp) you know lucius. i think it's not save me.\n",
      "kirk_van_houten: my new idea to sell her last or a hundred miles.\n",
      "moe_szyslak:(exasperated sigh) hey, a beer's a beer.\n",
      "\n"
     ]
    }
   ],
   "source": [
    "gen_length = 200\n",
    "# homer_simpson, moe_szyslak, or Barney_Gumble\n",
    "prime_word = 'moe_szyslak'\n",
    "\n",
    "loaded_graph = tf.Graph()\n",
    "with tf.Session(graph=loaded_graph) as sess:\n",
    "    # Load saved model\n",
    "    loader = tf.train.import_meta_graph(load_dir + '.meta')\n",
    "    loader.restore(sess, load_dir)\n",
    "\n",
    "    # Get Tensors from loaded model\n",
    "    input_text, initial_state, final_state, probs = get_tensors(loaded_graph)\n",
    "\n",
    "    # Sentences generation setup\n",
    "    gen_sentences = [prime_word + ':']\n",
    "    prev_state = sess.run(initial_state, {input_text: np.array([[1]])})\n",
    "\n",
    "    # Generate sentences\n",
    "    for n in range(gen_length):\n",
    "        # Dynamic Input\n",
    "        dyn_input = [[vocab_to_int[word] for word in gen_sentences[-seq_length:]]]\n",
    "        dyn_seq_length = len(dyn_input[0])\n",
    "\n",
    "        # Get Prediction\n",
    "        probabilities, prev_state = sess.run(\n",
    "            [probs, final_state],\n",
    "            {input_text: dyn_input, initial_state: prev_state})\n",
    "        \n",
    "        pred_word = pick_word(probabilities[dyn_seq_length-1], int_to_vocab)\n",
    "\n",
    "        gen_sentences.append(pred_word)\n",
    "    \n",
    "    # Remove tokens\n",
    "    tv_script = ' '.join(gen_sentences)\n",
    "    for key, token in token_dict.items():\n",
    "        ending = ' ' if key in ['\\n', '(', '\"'] else ''\n",
    "        tv_script = tv_script.replace(' ' + token.lower(), key)\n",
    "    tv_script = tv_script.replace('\\n ', '\\n')\n",
    "    tv_script = tv_script.replace('( ', '(')\n",
    "        \n",
    "    print(tv_script)"
   ]
  },
  {
   "cell_type": "markdown",
   "metadata": {
    "deletable": true,
    "editable": true
   },
   "source": [
    "# The TV Script is Nonsensical\n",
    "It's ok if the TV script doesn't make any sense.  We trained on less than a megabyte of text.  In order to get good results, you'll have to use a smaller vocabulary or get more data.  Luckly there's more data!  As we mentioned in the begging of this project, this is a subset of [another dataset](https://www.kaggle.com/wcukierski/the-simpsons-by-the-data).  We didn't have you train on all the data, because that would take too long.  However, you are free to train your neural network on all the data.  After you complete the project, of course.\n",
    "# Submitting This Project\n",
    "When submitting this project, make sure to run all the cells before saving the notebook. Save the notebook file as \"dlnd_tv_script_generation.ipynb\" and save it as a HTML file under \"File\" -> \"Download as\". Include the \"helper.py\" and \"problem_unittests.py\" files in your submission."
   ]
  }
 ],
 "metadata": {
  "kernelspec": {
   "display_name": "Python 3",
   "language": "python",
   "name": "python3"
  },
  "language_info": {
   "codemirror_mode": {
    "name": "ipython",
    "version": 3
   },
   "file_extension": ".py",
   "mimetype": "text/x-python",
   "name": "python",
   "nbconvert_exporter": "python",
   "pygments_lexer": "ipython3",
   "version": "3.5.3"
  },
  "widgets": {
   "state": {},
   "version": "1.1.2"
  }
 },
 "nbformat": 4,
 "nbformat_minor": 0
}
